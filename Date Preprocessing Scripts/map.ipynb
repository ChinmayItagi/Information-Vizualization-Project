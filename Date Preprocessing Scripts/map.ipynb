{
 "cells": [
  {
   "cell_type": "code",
   "execution_count": 2,
   "metadata": {},
   "outputs": [],
   "source": [
    "import pandas as pd\n",
    "import calendar\n",
    "import json \n",
    "from collections import defaultdict\n",
    "import copy"
   ]
  },
  {
   "cell_type": "code",
   "execution_count": 3,
   "metadata": {},
   "outputs": [],
   "source": [
    "df = pd.read_csv(r'C:\\Users\\Chinmay Itagi\\Documents\\GitHub\\Information-Vizualization-Project_1\\Data\\crime-in-los-angeles\\Crime_Data_2010_2017.csv').sample(frac=0.01)\n"
   ]
  },
  {
   "cell_type": "code",
   "execution_count": 4,
   "metadata": {},
   "outputs": [
    {
     "data": {
      "text/plain": [
       "['DR Number',\n",
       " 'Date Reported',\n",
       " 'Date Occurred',\n",
       " 'Time Occurred',\n",
       " 'Area ID',\n",
       " 'Area Name',\n",
       " 'Reporting District',\n",
       " 'Crime Code',\n",
       " 'Crime Code Description',\n",
       " 'MO Codes',\n",
       " 'Victim Age',\n",
       " 'Victim Sex',\n",
       " 'Victim Descent',\n",
       " 'Premise Code',\n",
       " 'Premise Description',\n",
       " 'Weapon Used Code',\n",
       " 'Weapon Description',\n",
       " 'Status Code',\n",
       " 'Status Description',\n",
       " 'Crime Code 1',\n",
       " 'Crime Code 2',\n",
       " 'Crime Code 3',\n",
       " 'Crime Code 4',\n",
       " 'Address',\n",
       " 'Cross Street',\n",
       " 'Location ']"
      ]
     },
     "execution_count": 4,
     "metadata": {},
     "output_type": "execute_result"
    }
   ],
   "source": [
    "list(df)"
   ]
  },
  {
   "cell_type": "code",
   "execution_count": null,
   "metadata": {},
   "outputs": [],
   "source": []
  }
 ],
 "metadata": {
  "kernelspec": {
   "display_name": "Python 3",
   "language": "python",
   "name": "python3"
  },
  "language_info": {
   "codemirror_mode": {
    "name": "ipython",
    "version": 3
   },
   "file_extension": ".py",
   "mimetype": "text/x-python",
   "name": "python",
   "nbconvert_exporter": "python",
   "pygments_lexer": "ipython3",
   "version": "3.7.3"
  }
 },
 "nbformat": 4,
 "nbformat_minor": 2
}
